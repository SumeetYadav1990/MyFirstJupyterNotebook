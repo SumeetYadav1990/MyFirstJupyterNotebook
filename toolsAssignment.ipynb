{
  "metadata": {
    "language_info": {
      "codemirror_mode": {
        "name": "python",
        "version": 3
      },
      "file_extension": ".py",
      "mimetype": "text/x-python",
      "name": "python",
      "nbconvert_exporter": "python",
      "pygments_lexer": "ipython3",
      "version": "3.8"
    },
    "kernelspec": {
      "name": "python",
      "display_name": "Pyolite",
      "language": "python"
    }
  },
  "nbformat_minor": 4,
  "nbformat": 4,
  "cells": [
    {
      "cell_type": "markdown",
      "source": "# Data Science Tools and Ecosystem",
      "metadata": {}
    },
    {
      "cell_type": "markdown",
      "source": "### In this notebook, Data Science Tools and Ecosystem are summarized.",
      "metadata": {}
    },
    {
      "cell_type": "markdown",
      "source": "\n\n<b>Objectives:</b>\n\n<ul>\n<li>List popular languages that Data Scientists use.</li>\n<li>List commonly used libraries used by Data Scientists.</li>\n<li>Comment on Data Science tools.</li>\n</ul>\n\n\n",
      "metadata": {}
    },
    {
      "cell_type": "markdown",
      "source": "### Some of the popular languages that Data Scientists use are:",
      "metadata": {}
    },
    {
      "cell_type": "markdown",
      "source": "1. Python\n2. R\n3. SQL\n4. JAVA",
      "metadata": {}
    },
    {
      "cell_type": "markdown",
      "source": "### Some of the commonly used libraries used by Data Scientists include:",
      "metadata": {}
    },
    {
      "cell_type": "markdown",
      "source": "1. TensorFlow.\n2. NumPy.\n3. SciPy.\n4. Pandas.\n5. Matplotlib.",
      "metadata": {}
    },
    {
      "cell_type": "markdown",
      "source": "### Data Science Tools:",
      "metadata": {}
    },
    {
      "cell_type": "markdown",
      "source": "<table>\n<tr>\n<th>Data Science Tools</th>\n</tr>\n<tr>\n<td>\n<pre lang=\"js\">\nSAS\nApache Spark\nBigML\n</pre>\n</td>\n</tr>\n</table>",
      "metadata": {}
    },
    {
      "cell_type": "markdown",
      "source": "<h3>Below are a few examples of evaluating arithmetic expressions in Python</h3>",
      "metadata": {}
    },
    {
      "cell_type": "code",
      "source": "#This a simple arithmetic expression to mutiply then add integers",
      "metadata": {
        "trusted": true
      },
      "execution_count": 8,
      "outputs": []
    },
    {
      "cell_type": "code",
      "source": "val1 = compile(\"(3*4) + 5\", \"<string>\", \"eval\")\neval(val1)",
      "metadata": {
        "trusted": true
      },
      "execution_count": 7,
      "outputs": [
        {
          "execution_count": 7,
          "output_type": "execute_result",
          "data": {
            "text/plain": "17"
          },
          "metadata": {}
        }
      ]
    },
    {
      "cell_type": "code",
      "source": "# This will convert 200 minutes to hours by diving by 60",
      "metadata": {
        "trusted": true
      },
      "execution_count": 9,
      "outputs": []
    },
    {
      "cell_type": "code",
      "source": "days = 0\nhours = 0\nmins = 0\n\ntime = 200\n#days = time / 1440\nleftover_minutes = time % 1440\nhours = leftover_minutes / 60\n#mins = time - (days*1440) - (hours*60)\nprint(str(days) + \" days, \" + str(hours) + \" hours, \" + str(mins) +  \" mins. \")\n",
      "metadata": {
        "trusted": true
      },
      "execution_count": 10,
      "outputs": [
        {
          "name": "stdout",
          "text": "0 days, 3.3333333333333335 hours, 0 mins. \n",
          "output_type": "stream"
        }
      ]
    },
    {
      "cell_type": "markdown",
      "source": "<h2>Author</h2>\nSumeet Yadav",
      "metadata": {}
    },
    {
      "cell_type": "code",
      "source": "",
      "metadata": {},
      "execution_count": null,
      "outputs": []
    }
  ]
}